{
 "cells": [
  {
   "cell_type": "code",
   "execution_count": 1,
   "id": "e499b648",
   "metadata": {},
   "outputs": [
    {
     "name": "stdout",
     "output_type": "stream",
     "text": [
      "1+2j\n",
      "2.23606797749979\n",
      "1.1071487177940904\n"
     ]
    }
   ],
   "source": [
    "#1) Polar Coordinates\n",
    "\n",
    "import cmath\n",
    "\n",
    "c=complex(input().strip())\n",
    "x =cmath.polar(c)\n",
    "print(x[0])\n",
    "print(x[1])"
   ]
  },
  {
   "cell_type": "code",
   "execution_count": 3,
   "id": "8197a1a6",
   "metadata": {},
   "outputs": [
    {
     "name": "stdout",
     "output_type": "stream",
     "text": [
      "10\n",
      "10\n",
      "45°\n"
     ]
    }
   ],
   "source": [
    "#2) Find Angle MBC\n",
    "\n",
    "import math\n",
    "\n",
    "ab = float(input())\n",
    "bc = float(input())\n",
    "print(round(math.degrees(math.atan(ab/bc))),chr(176),sep=\"\")"
   ]
  },
  {
   "cell_type": "code",
   "execution_count": 4,
   "id": "32f51d94",
   "metadata": {},
   "outputs": [
    {
     "name": "stdout",
     "output_type": "stream",
     "text": [
      "5\n",
      "1\n",
      "121\n",
      "12321\n",
      "1234321\n",
      "123454321\n"
     ]
    }
   ],
   "source": [
    "#3) Triangle Quest \n",
    "\n",
    "for i in range(1,int(input())+1):\n",
    "    print((10**i//9)**2 )"
   ]
  },
  {
   "cell_type": "code",
   "execution_count": 7,
   "id": "bb830659",
   "metadata": {},
   "outputs": [
    {
     "name": "stdout",
     "output_type": "stream",
     "text": [
      "177\n",
      "10\n",
      "17\n",
      "7\n",
      "(17, 7)\n"
     ]
    }
   ],
   "source": [
    "#4) Mod Divmod\n",
    "\n",
    "from __future__ import division\n",
    "\n",
    "if __name__ == '__main__':\n",
    "    a = int(input())\n",
    "    b = int(input())\n",
    "    \n",
    "    print(a//b);\n",
    "    x=divmod(a,b)\n",
    "    print(x[1],x,sep='\\n') \n",
    "    "
   ]
  },
  {
   "cell_type": "code",
   "execution_count": 8,
   "id": "bebf124a",
   "metadata": {},
   "outputs": [
    {
     "name": "stdout",
     "output_type": "stream",
     "text": [
      "3\n",
      "4\n",
      "5\n",
      "81\n",
      "1\n"
     ]
    }
   ],
   "source": [
    "#5) Power - Mod Power\n",
    "\n",
    "a=int(input())\n",
    "b=int(input())\n",
    "c=int(input())\n",
    "print (a**b)\n",
    "print ((a**b)%c)"
   ]
  },
  {
   "cell_type": "code",
   "execution_count": 9,
   "id": "3ca5ed3d",
   "metadata": {},
   "outputs": [
    {
     "name": "stdout",
     "output_type": "stream",
     "text": [
      "9\n",
      "29\n",
      "7\n",
      "27\n",
      "4710194409608608369201743232\n"
     ]
    }
   ],
   "source": [
    "#6) Integers Come In All Sizes\n",
    "\n",
    "a,b,c,d = (int(input()) for i in range(4))\n",
    "print(a**b+c**d)\n"
   ]
  },
  {
   "cell_type": "code",
   "execution_count": 10,
   "id": "1c1eaecc",
   "metadata": {},
   "outputs": [
    {
     "name": "stdout",
     "output_type": "stream",
     "text": [
      "7\n",
      "1\n",
      "22\n",
      "333\n",
      "4444\n",
      "55555\n",
      "666666\n"
     ]
    }
   ],
   "source": [
    "#7) Triangle Quest\n",
    "\n",
    "for i in range(1,int(input())):\n",
    "    print(((10**i)//9)*i)"
   ]
  },
  {
   "cell_type": "code",
   "execution_count": null,
   "id": "71b26694",
   "metadata": {},
   "outputs": [],
   "source": []
  }
 ],
 "metadata": {
  "kernelspec": {
   "display_name": "Python 3",
   "language": "python",
   "name": "python3"
  },
  "language_info": {
   "codemirror_mode": {
    "name": "ipython",
    "version": 3
   },
   "file_extension": ".py",
   "mimetype": "text/x-python",
   "name": "python",
   "nbconvert_exporter": "python",
   "pygments_lexer": "ipython3",
   "version": "3.8.8"
  }
 },
 "nbformat": 4,
 "nbformat_minor": 5
}
