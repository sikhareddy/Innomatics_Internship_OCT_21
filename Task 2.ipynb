{
 "cells": [
  {
   "cell_type": "code",
   "execution_count": 1,
   "id": "04094af6",
   "metadata": {},
   "outputs": [
    {
     "name": "stdout",
     "output_type": "stream",
     "text": [
      "2\n",
      "2\n",
      "2\n",
      "2\n",
      "[[0, 0, 0], [0, 0, 1], [0, 1, 0], [0, 1, 2], [0, 2, 1], [0, 2, 2], [1, 0, 0], [1, 0, 2], [1, 1, 1], [1, 1, 2], [1, 2, 0], [1, 2, 1], [1, 2, 2], [2, 0, 1], [2, 0, 2], [2, 1, 0], [2, 1, 1], [2, 1, 2], [2, 2, 0], [2, 2, 1], [2, 2, 2]]\n"
     ]
    }
   ],
   "source": [
    "#Question 1: List Comprehension\n",
    "if __name__ == '__main__':\n",
    "    x = int(input())\n",
    "    y = int(input())\n",
    "    z = int(input())\n",
    "    n = int(input())\n",
    "\n",
    "    \n",
    "print([[a, b, c] for a in range(x + 1) for b in range(y + 1) for c in range( z + 1) if a+b+c != n ])"
   ]
  },
  {
   "cell_type": "code",
   "execution_count": 2,
   "id": "487535d6",
   "metadata": {},
   "outputs": [
    {
     "name": "stdout",
     "output_type": "stream",
     "text": [
      "5\n",
      "2 3 3 5 6 \n",
      "5\n"
     ]
    }
   ],
   "source": [
    "#Question 2: Runner up\n",
    "\n",
    "if __name__ == '__main__':\n",
    "    n = int(input())\n",
    "    arr = map(int, input().split())\n",
    "    \n",
    "    b=set(arr)\n",
    "    b.remove(max(b))\n",
    "    print(max(b))\n",
    "    "
   ]
  },
  {
   "cell_type": "code",
   "execution_count": 3,
   "id": "2d0fad7b",
   "metadata": {},
   "outputs": [
    {
     "name": "stdout",
     "output_type": "stream",
     "text": [
      "5\n",
      "Harry\n",
      "37.21\n",
      "Berry\n",
      "37.21\n",
      "Tina\n",
      "37.2\n",
      "Akriti\n",
      "41\n",
      "Harsh\n",
      "39\n",
      "Berry\n",
      "Harry\n"
     ]
    }
   ],
   "source": [
    "#Question 3: Nested Lists\n",
    "\n",
    "if __name__ == '__main__':\n",
    "    name = [[input(),float(input())] for i in range(int(input()))]\n",
    "score = sorted(set(j for i,j in name))[1]\n",
    "print(\"\\n\".join(sorted(i for i,j in name if j==score)))"
   ]
  },
  {
   "cell_type": "code",
   "execution_count": 4,
   "id": "6f11fcaf",
   "metadata": {},
   "outputs": [
    {
     "name": "stdout",
     "output_type": "stream",
     "text": [
      "3\n",
      "Krishna 67 68 69\n",
      "Arjun 70 98 63\n",
      "Malika 52 56 60\n",
      "Malika\n",
      "56.00\n"
     ]
    }
   ],
   "source": [
    "#Question 4: Percentage\n",
    "if __name__ == '__main__':\n",
    "    n = int(input())\n",
    "    student_marks = {}\n",
    "    for _ in range(n):\n",
    "        name, *line = input().split()\n",
    "        scores = list(map(float, line))\n",
    "        student_marks[name] = scores\n",
    "    query_name = input()\n",
    "    l=list(student_marks[query_name])\n",
    "    le=len(l)\n",
    "    s=sum(l)\n",
    "    av=s/le\n",
    "    print('%.2f'%av)"
   ]
  },
  {
   "cell_type": "code",
   "execution_count": 5,
   "id": "a22fad36",
   "metadata": {},
   "outputs": [
    {
     "name": "stdout",
     "output_type": "stream",
     "text": [
      "12\n",
      "insert 0 5\n",
      "insert 1 10\n",
      "insert 0 6\n",
      "print\n",
      "[6, 5, 10]\n",
      "remove 6\n",
      "append 9\n",
      "append 1\n",
      "sort\n",
      "print\n",
      "[1, 5, 9, 10]\n",
      "pop\n",
      "reverse\n",
      "print\n",
      "[9, 5, 1]\n"
     ]
    }
   ],
   "source": [
    "#Question 5: Lists\n",
    "\n",
    "if __name__ == '__main__':\n",
    "    \n",
    "  def commdr(lst, instruct): \n",
    "    if instruct[0] == 'insert':\n",
    "        lst.insert(int(instruct[1]), int(instruct[2]))\n",
    "    elif instruct[0] == 'print':\n",
    "        print(lst)\n",
    "    elif instruct[0] == 'remove':\n",
    "        lst.remove(int(instruct[1]))\n",
    "    elif instruct[0] == 'append':\n",
    "        lst.append(int(instruct[1]))\n",
    "    elif instruct[0] == 'sort':\n",
    "        lst.sort()\n",
    "    elif instruct[0] == 'reverse':\n",
    "        lst.reverse()\n",
    "    elif instruct[0] == 'pop':\n",
    "        lst.pop()\n",
    "    else: \n",
    "        print(\"Command not recognized!\")\n",
    "          \n",
    "N = int(input())\n",
    "lst = []\n",
    "for command in range(0,N):\n",
    "    temp = [str(i) for i in input().strip().split()]\n",
    "    commdr(lst, temp)"
   ]
  },
  {
   "cell_type": "code",
   "execution_count": 8,
   "id": "3b7cf88c",
   "metadata": {},
   "outputs": [
    {
     "name": "stdout",
     "output_type": "stream",
     "text": [
      "2\n",
      "1 2\n",
      "-3550055125485641917\n"
     ]
    }
   ],
   "source": [
    "#Question 6: Tuple\n",
    "#getting different output here but got expected in hackerrank\n",
    "if __name__ == '__main__':\n",
    "    n = int(input())\n",
    "    integer_list = map(int, input().split())\n",
    "    \n",
    "    t = tuple(integer_list)\n",
    "    print(hash(t))"
   ]
  },
  {
   "cell_type": "code",
   "execution_count": 13,
   "id": "17aca9c7",
   "metadata": {},
   "outputs": [
    {
     "name": "stdout",
     "output_type": "stream",
     "text": [
      "10\n",
      "161 162 187 182 212\n",
      "180.8\n"
     ]
    }
   ],
   "source": [
    "#Question 7: Sets\n",
    "def average(array):\n",
    "    average=sum(set(arr))/len(set(arr))\n",
    "    return average\n",
    "    \n",
    "if __name__ == '__main__':\n",
    "    n = int(input())\n",
    "    arr = list(map(int, input().split()))\n",
    "    result = average(arr)\n",
    "    print(result)"
   ]
  },
  {
   "cell_type": "code",
   "execution_count": 14,
   "id": "0038f8ac",
   "metadata": {},
   "outputs": [
    {
     "name": "stdout",
     "output_type": "stream",
     "text": [
      "3 2\n",
      "1 5 3\n",
      "3 1\n",
      "5 7\n",
      "1\n"
     ]
    }
   ],
   "source": [
    "#Question 8: No Idea\n",
    "n, m = [int(x) for x in input().split()]\n",
    "\n",
    "array = [int(x) for x in input().split()]\n",
    "A = {int(x) for x in input().split()}\n",
    "B = {int(x) for x in input().split()}\n",
    "\n",
    "happiness = 0\n",
    "\n",
    "for value in array:\n",
    "    change = 1 if value in A else -1 if value in B else 0\n",
    "    happiness += change\n",
    "\n",
    "print(happiness)"
   ]
  },
  {
   "cell_type": "code",
   "execution_count": 17,
   "id": "17682efa",
   "metadata": {},
   "outputs": [
    {
     "name": "stdout",
     "output_type": "stream",
     "text": [
      "4\n",
      "2 4 5 9 \n",
      "4\n",
      "2 4 11 12  \n",
      "5\n",
      "9\n",
      "11\n",
      "12\n"
     ]
    }
   ],
   "source": [
    "#Question 9: Set Symmetric_diffrence\n",
    "a,i,e,j = input(),input().split(),input(),input().split()\n",
    "for i in sorted(set(i)^set(j), key = int):\n",
    "\n",
    " print(i)"
   ]
  },
  {
   "cell_type": "code",
   "execution_count": 18,
   "id": "6bf785b5",
   "metadata": {},
   "outputs": [
    {
     "name": "stdout",
     "output_type": "stream",
     "text": [
      "7\n",
      "UK\n",
      "China\n",
      "USA\n",
      "France\n",
      "New Zealand\n",
      "UK\n",
      "France\n",
      "5\n"
     ]
    }
   ],
   "source": [
    "#Question 11: set add\n",
    "new = set()\n",
    "for _ in range(int(input())):\n",
    "    new.add(input())\n",
    "print(len(new))\n"
   ]
  },
  {
   "cell_type": "code",
   "execution_count": 21,
   "id": "4f3de66d",
   "metadata": {},
   "outputs": [
    {
     "name": "stdout",
     "output_type": "stream",
     "text": [
      "9\n",
      "1 2 3 4 5 6 7 8 9\n",
      "9\n",
      "10 1 2 3 11 21 55 6 8\n",
      "13\n"
     ]
    }
   ],
   "source": [
    "#Question 13: Set Union\n",
    "m = int(input())\n",
    "s1 = set(input().split());\n",
    "\n",
    "n = int(input())\n",
    "s2 = set(input().split());\n",
    "\n",
    "s3 = s1.union(s2)\n",
    "\n",
    "print(len(s3))\n"
   ]
  },
  {
   "cell_type": "code",
   "execution_count": 23,
   "id": "22f9ff95",
   "metadata": {},
   "outputs": [
    {
     "name": "stdout",
     "output_type": "stream",
     "text": [
      "9\n",
      "1 2 3 4 5 6 7 8 9\n",
      "10\n",
      "pop\n",
      "remove 9\n",
      "discard 9\n",
      "discard 8\n",
      "remove 7\n",
      "pop\n",
      "discard 6\n",
      "remove 5\n",
      "pop \n",
      "discard 5\n",
      "4\n"
     ]
    }
   ],
   "source": [
    "#Question 12: Set Remove Pop\n",
    "int(input())\n",
    "a = set(map(int,input().split()))\n",
    "n = int(input())\n",
    "for i in range(n):\n",
    "    p = input().split()\n",
    "    if p[0]==\"remove\":\n",
    "        a.remove(int(p[1]))\n",
    "    elif p[0]==\"discard\":\n",
    "        a.discard(int(p[1]))\n",
    "    else :\n",
    "        a.pop()\n",
    "print(sum(list(a)))"
   ]
  },
  {
   "cell_type": "code",
   "execution_count": 24,
   "id": "f5b90b14",
   "metadata": {},
   "outputs": [
    {
     "name": "stdout",
     "output_type": "stream",
     "text": [
      "9\n",
      "1 2 3 4 5 6 7 8 9\n",
      "9\n",
      "10 1 2 3 11 21 55 6 8\n",
      "5\n"
     ]
    }
   ],
   "source": [
    "#QUESTION 14: set intersection\n",
    "\n",
    "n1, s1, n2, s2 = (set(input().split()) for i in range(4))\n",
    "print(len(s1.intersection(s2)))"
   ]
  },
  {
   "cell_type": "code",
   "execution_count": 25,
   "id": "1ca96e0b",
   "metadata": {},
   "outputs": [
    {
     "name": "stdout",
     "output_type": "stream",
     "text": [
      "9\n",
      "1 2 3 4 5 6 7 8 9\n",
      "9\n",
      "10 1 2 3 11 21 55 6 8\n",
      "4\n"
     ]
    }
   ],
   "source": [
    "#Question 15: set difference\n",
    "\n",
    "m = int(input())\n",
    "s1 = set(input().split())\n",
    "\n",
    "n = int(input())\n",
    "s2 = set(input().split())\n",
    "\n",
    "s3 = s1.difference(s2)\n",
    "\n",
    "print(len(s3))"
   ]
  },
  {
   "cell_type": "code",
   "execution_count": 26,
   "id": "00bff7fc",
   "metadata": {},
   "outputs": [
    {
     "name": "stdout",
     "output_type": "stream",
     "text": [
      "9\n",
      "1 2 3 4 5 6 7 8 9\n",
      "9\n",
      "10 1 2 3 11 21 55 6 8\n",
      "8\n"
     ]
    }
   ],
   "source": [
    "#Question 16: Set Symmetric diffrence\n",
    "\n",
    "m = int(input())\n",
    "s1 = set(input().split())\n",
    "\n",
    "n = int(input())\n",
    "s2 = set(input().split())\n",
    "\n",
    "s3 = s1.symmetric_difference(s2)\n",
    "\n",
    "print(len(s3))"
   ]
  },
  {
   "cell_type": "code",
   "execution_count": 27,
   "id": "5112e4e8",
   "metadata": {},
   "outputs": [
    {
     "name": "stdout",
     "output_type": "stream",
     "text": [
      "16\n",
      " 1 2 3 4 5 6 7 8 9 10 11 12 13 14 24 52\n",
      "4\n",
      "intersection_update 10\n",
      "2 3 5 6 8 9 1 4 7 11\n",
      "update 2\n",
      "55 66\n",
      "symmetric_difference_update 5\n",
      "22 7 35 62 58\n",
      " difference_update 7\n",
      " 11 22 35 55 58 62 66\n",
      "38\n"
     ]
    }
   ],
   "source": [
    "#Question 17: set mutation\n",
    "\n",
    "n = int(input())\n",
    "A = set(map(int,input().split()))\n",
    "N = int(input())\n",
    "for i in range(N):\n",
    "    cmd = input().split()\n",
    "    option = cmd[0]\n",
    "    s = set(map(int,input().split()))\n",
    "    if (option == 'update'):\n",
    "        A |= s\n",
    "    elif (option == 'intersection_update'):\n",
    "        A &= s\n",
    "    elif (option == 'difference_update'):\n",
    "        A -= s\n",
    "    elif (option == 'symmetric_difference_update'):\n",
    "        A ^= s\n",
    "print(sum(A))"
   ]
  },
  {
   "cell_type": "code",
   "execution_count": 31,
   "id": "8ad18427",
   "metadata": {},
   "outputs": [
    {
     "name": "stdout",
     "output_type": "stream",
     "text": [
      "5\n",
      "1 2 3 6 5 4 4 2 5 3 6 1 6 5 3 2 4 1 2 5 1 4 3 6 8 4 3 1 5 6 2 \n",
      "The Captain's Room: 8\n"
     ]
    }
   ],
   "source": [
    "#Question 18 Captain room\n",
    "k=int(input())\n",
    "rs=list(map(int,input().split()))\n",
    "a=set()\n",
    "b=set()\n",
    "for r in rs:\n",
    "    if r not in a:\n",
    "        a.add(r)\n",
    "        b.add(r)\n",
    "    else:\n",
    "        b.discard(r)\n",
    "b=list(b)\n",
    "print(\"The Captain's Room:\",b[0])"
   ]
  },
  {
   "cell_type": "code",
   "execution_count": 32,
   "id": "3ce267ab",
   "metadata": {},
   "outputs": [
    {
     "name": "stdout",
     "output_type": "stream",
     "text": [
      "3\n",
      "5\n",
      "1 2 3 5 6\n",
      "9\n",
      "9 8 5 6 3 2 1 4 7\n",
      "True\n",
      "1\n",
      "2\n",
      "5\n",
      "3 6 5 4 1\n",
      "False\n",
      "7\n",
      "1 2 3 5 6 8 9\n",
      "3\n",
      "9 8 2\n",
      "False\n"
     ]
    }
   ],
   "source": [
    "#Question 19: check subset\n",
    "t = int(input())\n",
    "\n",
    "for _ in range(t):\n",
    "    x = input()\n",
    "    A = set(input().split())\n",
    "    y = int(input())\n",
    "    B = set(input().split())\n",
    "    print(A.issubset(B))"
   ]
  },
  {
   "cell_type": "code",
   "execution_count": 33,
   "id": "c16311b0",
   "metadata": {},
   "outputs": [
    {
     "name": "stdout",
     "output_type": "stream",
     "text": [
      "1 2 3 4 5 6 7 8 9 10 11 12 23 45 84 78\n",
      "2\n",
      "1 2 3 4 5 \n",
      "100 11 12\n",
      "False\n"
     ]
    }
   ],
   "source": [
    "#Question 20: strict superset\n",
    "\n",
    "def check():\n",
    "    s=set(map(int,input().split()))\n",
    "    if s.issubset(a):\n",
    "        if len(a)==len(s):\n",
    "            l.append(0)\n",
    "        else:\n",
    "            l.append(1)\n",
    "    else:\n",
    "        l.append(0)\n",
    "        \n",
    "        \n",
    "a=set(map(int,input().split()))\n",
    "n=int(input())\n",
    "l=[]\n",
    "for i in range(n):\n",
    "    check()\n",
    "if all(l)==1:\n",
    "    print(True)\n",
    "else:\n",
    "    print(False)"
   ]
  },
  {
   "cell_type": "code",
   "execution_count": null,
   "id": "c0b2576e",
   "metadata": {},
   "outputs": [],
   "source": []
  }
 ],
 "metadata": {
  "kernelspec": {
   "display_name": "Python 3",
   "language": "python",
   "name": "python3"
  },
  "language_info": {
   "codemirror_mode": {
    "name": "ipython",
    "version": 3
   },
   "file_extension": ".py",
   "mimetype": "text/x-python",
   "name": "python",
   "nbconvert_exporter": "python",
   "pygments_lexer": "ipython3",
   "version": "3.8.8"
  }
 },
 "nbformat": 4,
 "nbformat_minor": 5
}
