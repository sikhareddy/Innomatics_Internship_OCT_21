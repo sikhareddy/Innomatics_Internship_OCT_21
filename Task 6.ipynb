{
 "cells": [
  {
   "cell_type": "code",
   "execution_count": 1,
   "id": "2016c185",
   "metadata": {},
   "outputs": [
    {
     "name": "stdout",
     "output_type": "stream",
     "text": [
      "1 2 3 4 -8 -10\n",
      "[-10.  -8.   4.   3.   2.   1.]\n"
     ]
    }
   ],
   "source": [
    "#Question 1: Arrays\n",
    "\n",
    "import numpy\n",
    "\n",
    "def arrays(arr):\n",
    "    x = numpy.array(arr, float)\n",
    "    return x[::-1]\n",
    "\n",
    "arr = input().strip().split(' ')\n",
    "result = arrays(arr)\n",
    "print(result)"
   ]
  },
  {
   "cell_type": "code",
   "execution_count": 2,
   "id": "d70c20c2",
   "metadata": {},
   "outputs": [
    {
     "name": "stdout",
     "output_type": "stream",
     "text": [
      "1 2 3 4 5 6 7 8 9\n",
      "[[1 2 3]\n",
      " [4 5 6]\n",
      " [7 8 9]]\n"
     ]
    }
   ],
   "source": [
    "#Question 2: Shape and Reshape\n",
    "\n",
    "import numpy as np\n",
    "array=np.array(list(map(int,input().split())))\n",
    "array.shape=(3,3)\n",
    "print(array)"
   ]
  },
  {
   "cell_type": "code",
   "execution_count": 3,
   "id": "568bb864",
   "metadata": {},
   "outputs": [
    {
     "name": "stdout",
     "output_type": "stream",
     "text": [
      "2 2\n",
      "1 2\n",
      "3 4\n",
      "[[1 3]\n",
      " [2 4]]\n",
      "[1 2 3 4]\n"
     ]
    }
   ],
   "source": [
    "#Question 3: Transpose and Flatten\n",
    "\n",
    "import numpy\n",
    "\n",
    "\n",
    "N,M=map(int,input().split())\n",
    "\n",
    "lst=[list(map(int,input().split())) for _ in range(N)]\n",
    "x=numpy.array(lst)\n",
    "\n",
    "print(numpy.transpose(x))\n",
    "print(x.flatten())\n"
   ]
  },
  {
   "cell_type": "code",
   "execution_count": 5,
   "id": "beea9558",
   "metadata": {},
   "outputs": [
    {
     "name": "stdout",
     "output_type": "stream",
     "text": [
      "4 3 2\n",
      "1 2\n",
      "1 2\n",
      "1 2\n",
      "1 2\n",
      "3 4\n",
      "3 4\n",
      "3 4\n",
      "[[1 2]\n",
      " [1 2]\n",
      " [1 2]\n",
      " [1 2]\n",
      " [3 4]\n",
      " [3 4]\n",
      " [3 4]]\n"
     ]
    }
   ],
   "source": [
    "#Question 4: Concatenate\n",
    "\n",
    "import numpy\n",
    "\n",
    "\n",
    "N,M,P=map(int,input().split())\n",
    "\n",
    "lst1=[list(map(int,input().split())) for i in range(N)]\n",
    "lst2=[list(map(int,input().split())) for i in range(M)]\n",
    "x1=numpy.array(lst1)\n",
    "x2=numpy.array(lst2)\n",
    "\n",
    "print(numpy.concatenate((x1,x2),axis=0))\n"
   ]
  },
  {
   "cell_type": "code",
   "execution_count": 6,
   "id": "340f4820",
   "metadata": {},
   "outputs": [
    {
     "name": "stdout",
     "output_type": "stream",
     "text": [
      "3 3 3\n",
      "[[[0 0 0]\n",
      "  [0 0 0]\n",
      "  [0 0 0]]\n",
      "\n",
      " [[0 0 0]\n",
      "  [0 0 0]\n",
      "  [0 0 0]]\n",
      "\n",
      " [[0 0 0]\n",
      "  [0 0 0]\n",
      "  [0 0 0]]]\n",
      "[[[1 1 1]\n",
      "  [1 1 1]\n",
      "  [1 1 1]]\n",
      "\n",
      " [[1 1 1]\n",
      "  [1 1 1]\n",
      "  [1 1 1]]\n",
      "\n",
      " [[1 1 1]\n",
      "  [1 1 1]\n",
      "  [1 1 1]]]\n"
     ]
    },
    {
     "name": "stderr",
     "output_type": "stream",
     "text": [
      "<ipython-input-6-375601aae91d>:7: DeprecationWarning: `np.int` is a deprecated alias for the builtin `int`. To silence this warning, use `int` by itself. Doing this will not modify any behavior and is safe. When replacing `np.int`, you may wish to use e.g. `np.int64` or `np.int32` to specify the precision. If you wish to review your current use, check the release note link for additional information.\n",
      "Deprecated in NumPy 1.20; for more details and guidance: https://numpy.org/devdocs/release/1.20.0-notes.html#deprecations\n",
      "  print(numpy.zeros(N, dtype = numpy.int), numpy.ones(N, dtype = numpy.int), sep='\\n')\n"
     ]
    }
   ],
   "source": [
    "#Question 5: Zeros and Ones\n",
    "\n",
    "import numpy\n",
    "\n",
    "\n",
    "N = tuple(map(int, input().split()))\n",
    "print(numpy.zeros(N, dtype = numpy.int), numpy.ones(N, dtype = numpy.int), sep='\\n')\n",
    "\n"
   ]
  },
  {
   "cell_type": "code",
   "execution_count": 7,
   "id": "e050955a",
   "metadata": {},
   "outputs": [
    {
     "name": "stdout",
     "output_type": "stream",
     "text": [
      "3 3\n",
      "[[ 1.  0.  0.]\n",
      " [ 0.  1.  0.]\n",
      " [ 0.  0.  1.]]\n"
     ]
    }
   ],
   "source": [
    "#Question 6: Eye and Identity\n",
    "\n",
    "import numpy\n",
    "\n",
    "\n",
    "print(str(numpy.eye(*map(int,input().split()))).replace('1',' 1').replace('0',' 0'))"
   ]
  },
  {
   "cell_type": "code",
   "execution_count": 8,
   "id": "f98229dc",
   "metadata": {},
   "outputs": [
    {
     "name": "stdout",
     "output_type": "stream",
     "text": [
      "1 4\n",
      "1 2 3 4\n",
      "5 6 7 8\n",
      "[[ 6  8 10 12]]\n",
      "[[-4 -4 -4 -4]]\n",
      "[[ 5 12 21 32]]\n",
      "[[0 0 0 0]]\n",
      "[[1 2 3 4]]\n",
      "[[    1    64  2187 65536]]\n"
     ]
    }
   ],
   "source": [
    "#Question 7: Array Mathemetics\n",
    "\n",
    "import numpy\n",
    "\n",
    "\n",
    "N, M = tuple(map(int, input().split()))\n",
    "\n",
    "a = numpy.array([input().split() for i in range(0, N)], int)\n",
    "b = numpy.array([input().split() for j in range(0, N)], int)\n",
    "\n",
    "print(a+b, a-b, a*b, a//b, a % b, a**b, sep='\\n')"
   ]
  },
  {
   "cell_type": "code",
   "execution_count": 9,
   "id": "2c2ba367",
   "metadata": {},
   "outputs": [
    {
     "name": "stdout",
     "output_type": "stream",
     "text": [
      "1.1 2.2 3.3 4.4 5.5 6.6 7.7 8.8 9.9\n",
      "[ 1.  2.  3.  4.  5.  6.  7.  8.  9.]\n",
      "[  2.   3.   4.   5.   6.   7.   8.   9.  10.]\n",
      "[  1.   2.   3.   4.   6.   7.   8.   9.  10.]\n"
     ]
    }
   ],
   "source": [
    "#Question 8: Floor,Ceil and Rint\n",
    "\n",
    "import numpy\n",
    "\n",
    "\n",
    "\n",
    "numpy.set_printoptions(sign=' ')\n",
    "\n",
    "arr = numpy.array(input().split(),float)\n",
    "\n",
    "print(numpy.floor(arr))\n",
    "print(numpy.ceil(arr))\n",
    "print(numpy.rint(arr))\n"
   ]
  },
  {
   "cell_type": "code",
   "execution_count": 10,
   "id": "fdca6087",
   "metadata": {},
   "outputs": [
    {
     "name": "stdout",
     "output_type": "stream",
     "text": [
      "2 2\n",
      "1 2\n",
      "3 4\n",
      "24\n"
     ]
    }
   ],
   "source": [
    "#Question 9: Sum and Prod\n",
    "\n",
    "N, M = tuple(map(int, input().split()))\n",
    "lst = []\n",
    "for i in range(0, N):\n",
    "    lst.append(input().split())\n",
    "    \n",
    "arr = numpy.array(lst, int)\n",
    "print(numpy.prod(numpy.sum(arr, axis=0), axis=None))"
   ]
  },
  {
   "cell_type": "code",
   "execution_count": 11,
   "id": "a1756258",
   "metadata": {},
   "outputs": [
    {
     "name": "stdout",
     "output_type": "stream",
     "text": [
      "4 2\n",
      "2 5\n",
      "3 7\n",
      "1 3\n",
      "4 0\n",
      "3\n"
     ]
    }
   ],
   "source": [
    "#Question 10: Min and Max\n",
    "\n",
    "N, M = map(int, input().split())\n",
    "lst = []\n",
    "for i in range(0, N):\n",
    "    lst.append([x for x in input().split()])\n",
    "\n",
    "arr = numpy.array(lst, int)\n",
    "print(numpy.max(numpy.min(arr, axis=1), axis=None))"
   ]
  },
  {
   "cell_type": "code",
   "execution_count": 1,
   "id": "07aa2203",
   "metadata": {},
   "outputs": [
    {
     "name": "stdout",
     "output_type": "stream",
     "text": [
      "2 2\n",
      "1 2\n",
      "3 4\n",
      "[ 1.5  3.5]\n",
      "[ 1.  1.]\n",
      "1.11803398875\n"
     ]
    }
   ],
   "source": [
    "#Question 11: Mean,Var,Std\n",
    "\n",
    "import numpy\n",
    "numpy.set_printoptions(sign=' ')\n",
    "N, M = map(int, input().split())\n",
    "arr = numpy.array([input().split() for _ in range(N)], float)\n",
    "print(numpy.mean(arr, axis = 1)) \n",
    "print (numpy.var(arr, axis = 0))\n",
    "print(numpy.around(numpy.std(arr), 12))"
   ]
  },
  {
   "cell_type": "code",
   "execution_count": 2,
   "id": "20f8ab01",
   "metadata": {},
   "outputs": [
    {
     "name": "stdout",
     "output_type": "stream",
     "text": [
      "2\n",
      "1 2\n",
      "3 4\n",
      "1 2\n",
      "3 4\n",
      "[[ 7 10]\n",
      " [15 22]]\n"
     ]
    }
   ],
   "source": [
    "#Question 12: Dot and Cross\n",
    "\n",
    "import numpy\n",
    "N = int(input())\n",
    "lst1, lst2 = [], []\n",
    "for i in range(0, N):\n",
    "    lst1.append([x for x in input().split()])\n",
    "    \n",
    "for j in range(0, N):\n",
    "    lst2.append([y for y in input().split()])\n",
    "    \n",
    "arr1 = numpy.array(lst1, int)\n",
    "arr2 = numpy.array(lst2, int)\n",
    "\n",
    "#  we  use matmul() instead of the traditional dot/cross\n",
    "print(numpy.matmul(arr1, arr2))"
   ]
  },
  {
   "cell_type": "code",
   "execution_count": 3,
   "id": "7d5705b5",
   "metadata": {},
   "outputs": [
    {
     "name": "stdout",
     "output_type": "stream",
     "text": [
      "0 1\n",
      "2 3\n",
      "3\n",
      "[[0 0]\n",
      " [2 3]]\n"
     ]
    }
   ],
   "source": [
    "#Question 13: Inner and Outer\n",
    "\n",
    "import numpy\n",
    "\n",
    "\n",
    "a1 = numpy.array(input().split(), int)\n",
    "a2 = numpy.array(input().split(), int)\n",
    "\n",
    "print(numpy.inner(a1,a2), numpy.outer(a1,a2), sep='\\n')\n",
    "\n"
   ]
  },
  {
   "cell_type": "code",
   "execution_count": 4,
   "id": "88f1478f",
   "metadata": {},
   "outputs": [
    {
     "name": "stdout",
     "output_type": "stream",
     "text": [
      "1.1 2 3 \n",
      "0\n",
      "3.0\n"
     ]
    }
   ],
   "source": [
    "#Question 14: Polynomials\n",
    "\n",
    "import numpy\n",
    "\n",
    "\n",
    "P = [float(x) for x in input().split()]\n",
    "value = float(input())\n",
    "\n",
    "print(numpy.polyval(P, value))\n"
   ]
  },
  {
   "cell_type": "code",
   "execution_count": 5,
   "id": "8701d5d7",
   "metadata": {},
   "outputs": [
    {
     "name": "stdout",
     "output_type": "stream",
     "text": [
      "2\n",
      "1.1 1.1\n",
      "1.1 1.1\n",
      "0.0\n"
     ]
    }
   ],
   "source": [
    "#Question 15: Linear Algebra\n",
    "\n",
    "import numpy\n",
    "\n",
    "n=int(input())\n",
    "arr=numpy.array([input().split() for _ in range(n)],float)\n",
    "numpy.set_printoptions(legacy='1.13') \n",
    "print(numpy.linalg.det(arr))\n",
    "\n"
   ]
  },
  {
   "cell_type": "code",
   "execution_count": null,
   "id": "78e71832",
   "metadata": {},
   "outputs": [],
   "source": []
  }
 ],
 "metadata": {
  "kernelspec": {
   "display_name": "Python 3",
   "language": "python",
   "name": "python3"
  },
  "language_info": {
   "codemirror_mode": {
    "name": "ipython",
    "version": 3
   },
   "file_extension": ".py",
   "mimetype": "text/x-python",
   "name": "python",
   "nbconvert_exporter": "python",
   "pygments_lexer": "ipython3",
   "version": "3.8.8"
  }
 },
 "nbformat": 4,
 "nbformat_minor": 5
}
