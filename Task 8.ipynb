{
 "cells": [
  {
   "cell_type": "code",
   "execution_count": 2,
   "id": "0daaa31d",
   "metadata": {},
   "outputs": [
    {
     "name": "stdout",
     "output_type": "stream",
     "text": [
      "1.09 1\n",
      "0.696\n"
     ]
    }
   ],
   "source": [
    "#Question 1: Binomial Distribution 1\n",
    "\n",
    "from math import factorial\n",
    "def bino(n, x, p):\n",
    "    return factorial(n) // factorial(n - x) // factorial(x) * (p ** x) * (1 - p) ** (n - x)\n",
    "\n",
    "\n",
    "b = map(float, input().split())\n",
    "g = map(float, input().split())\n",
    "\n",
    "p = b / (b + g)\n",
    "\n",
    "r = bino(6, 3, p) + bino(6, 4, p) + bino(6, 5, p) + bino(6, 6, p)\n",
    "\n",
    "print(\"%.3f\" % r)"
   ]
  },
  {
   "cell_type": "code",
   "execution_count": 3,
   "id": "49eb3816",
   "metadata": {},
   "outputs": [
    {
     "name": "stdout",
     "output_type": "stream",
     "text": [
      "12 10\n",
      "0.891\n",
      "0.342\n"
     ]
    }
   ],
   "source": [
    "#Question 2: Binomial Distribution 2\n",
    "\n",
    "from math import factorial\n",
    "\n",
    "\n",
    "def bino(n, x, p):\n",
    "    return factorial(n) // factorial(n - x) // factorial(x) * (p ** x) * (1 - p) ** (n - x)\n",
    "\n",
    "p = map(int, input().split())\n",
    "n = map(int, input().split())\n",
    "\n",
    "p = p / 100     \n",
    "\n",
    "r = bino(n, 0, p) + bino(n, 1, p) + bino(n, 2, p)     \n",
    "print(\"%.3f\" % r)\n",
    "\n",
    "r = sum(bino(n, i, p) for i in range(2, n + 1))    \n",
    "print(\"%.3f\" % r)"
   ]
  },
  {
   "cell_type": "code",
   "execution_count": 4,
   "id": "01401387",
   "metadata": {},
   "outputs": [
    {
     "name": "stdout",
     "output_type": "stream",
     "text": [
      "0.401\n",
      "0.341\n"
     ]
    }
   ],
   "source": [
    "#Question 3: Normal Distribution I\n",
    "\n",
    "import math\n",
    "\n",
    "\n",
    "def cp(x, mu, std):\n",
    "    return 1/2*(1+math.erf((x-mu) / std / math.sqrt(2)))\n",
    "\n",
    "\n",
    "mu = 20\n",
    "std = 2\n",
    "\n",
    "\n",
    "print(round(cp(19.5, mu, std), 3))\n",
    "\n",
    "print(round(cp(22, mu, std) - cp(20, mu, std), 3))\n"
   ]
  },
  {
   "cell_type": "code",
   "execution_count": 5,
   "id": "c345a77a",
   "metadata": {},
   "outputs": [
    {
     "name": "stdout",
     "output_type": "stream",
     "text": [
      "15.87\n",
      "84.13\n",
      "15.87\n"
     ]
    }
   ],
   "source": [
    "#Question 4: Normal Distribution II\n",
    "\n",
    "import math\n",
    "\n",
    "miu, std = 70, 10\n",
    "cp = lambda x: 0.5 * (1 + math.erf((x - miu) / (std * math.sqrt(2))))\n",
    "\n",
    "# percentage of students having grade > q1\n",
    "print(round((1-cp(80))*100,2))\n",
    "\n",
    "# percentage of students having grade ≥ q2\n",
    "print(round((1-cp(60))*100,2))\n",
    "\n",
    "# percentage of students having grade < q2\n",
    "print(round((cp(60))*100,2))\n",
    "\n",
    "\n",
    "\n"
   ]
  },
  {
   "cell_type": "code",
   "execution_count": 6,
   "id": "bd7eca72",
   "metadata": {},
   "outputs": [
    {
     "name": "stdout",
     "output_type": "stream",
     "text": [
      "0.0098\n"
     ]
    }
   ],
   "source": [
    "#Question 5: The Central Limit Theorem I\n",
    "\n",
    "import math\n",
    "\n",
    "\n",
    "def cp(x, mean, std):\n",
    "    return 1/2*(1+math.erf((x-mean) / std / math.sqrt(2)))\n",
    "\n",
    "\n",
    "mean = 205\n",
    "std = 15\n",
    "n = 49\n",
    "tgt = 9800\n",
    "\n",
    "msum = n * mean\n",
    "ssum = std * n**(1/2)\n",
    "\n",
    "print(round(cp(tgt, msum, ssum), 4))"
   ]
  },
  {
   "cell_type": "code",
   "execution_count": 7,
   "id": "d30f6828",
   "metadata": {},
   "outputs": [
    {
     "name": "stdout",
     "output_type": "stream",
     "text": [
      "250\n",
      "100\n",
      "2.4\n",
      "2.0\n",
      "0.6915\n"
     ]
    }
   ],
   "source": [
    "#Question 6: The Central Limit Theorem II\n",
    "\n",
    "import math\n",
    "\n",
    "def cp(x, mu, si):\n",
    "    \n",
    "    return 1 / 2 * (1 + math.erf((x - mu) / si / math.sqrt(2)))\n",
    "\n",
    "tckts = int(input())         \n",
    "stdts = int(input())         \n",
    "mu = float(input())              \n",
    "si = float(input())              \n",
    "\n",
    "P = cp(tckts, stdts * mu, math.sqrt(stdts) * si)\n",
    "\n",
    "print(\"{:.4f}\".format(P))\n"
   ]
  },
  {
   "cell_type": "code",
   "execution_count": 8,
   "id": "8d012b2e",
   "metadata": {},
   "outputs": [
    {
     "name": "stdout",
     "output_type": "stream",
     "text": [
      "100\n",
      "500\n",
      "80\n",
      "0.95\n",
      "1.96\n",
      "484.320000\n",
      "515.680000\n"
     ]
    }
   ],
   "source": [
    "#Question 7: The Central Limit Theorem III\n",
    "\n",
    "import math\n",
    "\n",
    "samples = float(input())\n",
    "mean = float(input())\n",
    "sd = float(input())\n",
    "interval = float(input())\n",
    "z = float (input())\n",
    "\n",
    "e = z * sd / math.sqrt(samples)\n",
    "print('{:2f}'.format(mean - e))\n",
    "print('{:2f}'.format(mean + e))"
   ]
  },
  {
   "cell_type": "code",
   "execution_count": 9,
   "id": "bcc45962",
   "metadata": {},
   "outputs": [
    {
     "name": "stdout",
     "output_type": "stream",
     "text": [
      "10\n",
      "10 9.8 8 7.8 7.7 7 6 5 4 2 \n",
      "200 44 32 24 22 17 15 12 8 4\n",
      "0.612\n"
     ]
    }
   ],
   "source": [
    "#Question 8: Pearson Correlation Coefficient I\n",
    "\n",
    "n = int(input())\n",
    "x = list(map(float,input().strip().split()))\n",
    "y = list(map(float,input().strip().split()))\n",
    "\n",
    "meanx = sum(x) / n\n",
    "meany = sum(y) / n\n",
    "\n",
    "stdx = (sum([(i - meanx)**2 for i in x]) / n)**0.5\n",
    "stdy = (sum([(i - meany)**2 for i in y]) / n)**0.5\n",
    "\n",
    "\n",
    "covariance = sum([(x[i] - meanx) * (y[i] -meany) for i in range(n)])\n",
    "\n",
    "coefficient = covariance / (n * stdx * stdy)\n",
    "\n",
    "print(round(coefficient,3))"
   ]
  },
  {
   "cell_type": "code",
   "execution_count": 11,
   "id": "cbf9d853",
   "metadata": {
    "scrolled": true
   },
   "outputs": [
    {
     "name": "stdout",
     "output_type": "stream",
     "text": [
      "2 7\n",
      "0.18 0.89 109.85\n"
     ]
    },
    {
     "ename": "ValueError",
     "evalue": "invalid literal for int() with base 10: '0.18'",
     "output_type": "error",
     "traceback": [
      "\u001b[1;31m---------------------------------------------------------------------------\u001b[0m",
      "\u001b[1;31mValueError\u001b[0m                                Traceback (most recent call last)",
      "\u001b[1;32m<ipython-input-11-41d979ae0eb3>\u001b[0m in \u001b[0;36m<module>\u001b[1;34m\u001b[0m\n\u001b[0;32m      4\u001b[0m \u001b[1;33m\u001b[0m\u001b[0m\n\u001b[0;32m      5\u001b[0m \u001b[1;32mfor\u001b[0m \u001b[0mi\u001b[0m \u001b[1;32min\u001b[0m \u001b[0mrange\u001b[0m\u001b[1;33m(\u001b[0m\u001b[1;36m5\u001b[0m\u001b[1;33m)\u001b[0m\u001b[1;33m:\u001b[0m\u001b[1;33m\u001b[0m\u001b[1;33m\u001b[0m\u001b[0m\n\u001b[1;32m----> 6\u001b[1;33m     \u001b[0mm\u001b[0m\u001b[1;33m,\u001b[0m \u001b[0ms\u001b[0m\u001b[1;33m=\u001b[0m \u001b[0mmap\u001b[0m\u001b[1;33m(\u001b[0m\u001b[0mint\u001b[0m\u001b[1;33m,\u001b[0m\u001b[0minput\u001b[0m\u001b[1;33m(\u001b[0m\u001b[1;33m)\u001b[0m\u001b[1;33m.\u001b[0m\u001b[0msplit\u001b[0m\u001b[1;33m(\u001b[0m\u001b[1;33m)\u001b[0m\u001b[1;33m)\u001b[0m\u001b[1;33m\u001b[0m\u001b[1;33m\u001b[0m\u001b[0m\n\u001b[0m\u001b[0;32m      7\u001b[0m     \u001b[0mmaths\u001b[0m\u001b[1;33m.\u001b[0m\u001b[0mappend\u001b[0m\u001b[1;33m(\u001b[0m\u001b[0mm\u001b[0m\u001b[1;33m)\u001b[0m\u001b[1;33m\u001b[0m\u001b[1;33m\u001b[0m\u001b[0m\n\u001b[0;32m      8\u001b[0m     \u001b[0mstats\u001b[0m\u001b[1;33m.\u001b[0m\u001b[0mappend\u001b[0m\u001b[1;33m(\u001b[0m\u001b[0ms\u001b[0m\u001b[1;33m)\u001b[0m\u001b[1;33m\u001b[0m\u001b[1;33m\u001b[0m\u001b[0m\n",
      "\u001b[1;31mValueError\u001b[0m: invalid literal for int() with base 10: '0.18'"
     ]
    }
   ],
   "source": [
    "#Question 9: Least Square Regression Line\n",
    "\n",
    "maths, stats = [],[]\n",
    "\n",
    "for i in range(5):\n",
    "    m, s= map(int,input().split())\n",
    "    maths.append(m)\n",
    "    stats.append(s)\n",
    "\n",
    "def b_value(x,y):\n",
    "    n = len(x)\n",
    "    xy =[x[i]*y[i] for i in range(n) ]\n",
    "    x_square = [i**2 for i in x]\n",
    "    # y_square = [i**2 for i in y]\n",
    "    \n",
    "    b = (n*(sum(xy))-((sum(x)*sum(y))))/float(((n*sum(x_square))-sum(x)**2))\n",
    "    return b\n",
    "    \n",
    "def ab_values(x,y):\n",
    "    x_mean = sum(x)/float(len(x))    \n",
    "    y_mean = sum(y)/float(len(y))\n",
    "    b = b_value(x,y)\n",
    "    a = y_mean - b*x_mean\n",
    "    return a,b\n",
    "    \n",
    "a,b = ab_values(maths,stats)\n",
    "print (a + b*80)"
   ]
  },
  {
   "cell_type": "code",
   "execution_count": 13,
   "id": "a575fac1",
   "metadata": {},
   "outputs": [
    {
     "name": "stdout",
     "output_type": "stream",
     "text": [
      "2 7\n",
      "0.18 0.89 109.85\n",
      "1.0 0.26 155.72\n",
      "0.92 0.11 137.66\n",
      "0.07 0.37 76.17\n",
      "0.85 0.16 139.75\n",
      "0.99 0.41 162.6\n",
      "0.87 0.47 151.77\n",
      "4\n",
      "0.49 0.18\n",
      "105.21455835106931\n",
      "0.57 0.83\n",
      "142.6709513072991\n",
      "0.56 0.64\n",
      "132.93605469124682\n",
      "0.76 0.18\n",
      "129.70175404502444\n"
     ]
    }
   ],
   "source": [
    "#Question 10: Multiple Linear Regression\n",
    "\n",
    "features, featuresets = map(int, input().split())\n",
    "a = list()\n",
    "b = list()\n",
    "for _ in range(featuresets):\n",
    "    *tempx, tempy = [1] + list(map(float, input().split()))\n",
    "    a.append((tempx))\n",
    "    b.append(tempy)\n",
    "\n",
    "Xa = np.array(a)\n",
    "Ya = np.array(b)\n",
    "\n",
    "B = np.matmul(np.matmul(np.linalg.inv(np.matmul(np.transpose(Xa),Xa)), np.transpose(Xa)), Ya)\n",
    "\n",
    "ntests = int(input())\n",
    "for _ in range(ntests):\n",
    "    sample = [1] + list(map(float, input().split()))\n",
    "    samplea = np.array(sample)\n",
    "    print(np.matmul(samplea,B))"
   ]
  },
  {
   "cell_type": "code",
   "execution_count": null,
   "id": "fb90583a",
   "metadata": {},
   "outputs": [],
   "source": []
  }
 ],
 "metadata": {
  "kernelspec": {
   "display_name": "Python 3",
   "language": "python",
   "name": "python3"
  },
  "language_info": {
   "codemirror_mode": {
    "name": "ipython",
    "version": 3
   },
   "file_extension": ".py",
   "mimetype": "text/x-python",
   "name": "python",
   "nbconvert_exporter": "python",
   "pygments_lexer": "ipython3",
   "version": "3.8.8"
  }
 },
 "nbformat": 4,
 "nbformat_minor": 5
}
